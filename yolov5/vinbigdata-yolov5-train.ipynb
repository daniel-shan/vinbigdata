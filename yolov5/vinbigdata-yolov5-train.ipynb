{
 "cells": [
  {
   "cell_type": "code",
   "execution_count": null,
   "metadata": {
    "execution": {
     "iopub.execute_input": "2021-01-01T09:44:53.50848Z",
     "iopub.status.busy": "2021-01-01T09:44:53.50769Z",
     "iopub.status.idle": "2021-01-01T09:44:54.403472Z",
     "shell.execute_reply": "2021-01-01T09:44:54.402433Z"
    },
    "id": "ji8uPZzLfqCT",
    "papermill": {
     "duration": null,
     "end_time": null,
     "exception": null,
     "start_time": null,
     "status": "pending"
    },
    "tags": []
   },
   "outputs": [],
   "source": [
    "import numpy as np\n",
    "import pandas as pd\n",
    "from glob import glob\n",
    "import shutil\n",
    "from tqdm.notebook import tqdm\n",
    "import os\n",
    "from os import listdir\n",
    "from os.path import isfile, join\n",
    "import yaml\n",
    "import datetime\n",
    "from ensemble_boxes import *"
   ]
  },
  {
   "cell_type": "markdown",
   "metadata": {
    "id": "BB5mVXeUwr2t"
   },
   "source": [
    "# Define variables"
   ]
  },
  {
   "cell_type": "code",
   "execution_count": null,
   "metadata": {
    "id": "RMAA8n-3ulEa"
   },
   "outputs": [],
   "source": [
    "S3_BUCKET_NAME = 'default'\n",
    "\n",
    "WORKING_DIR='/content/result'\n",
    "DATA_DIR = '/tmp/vinbigdata-chest-xray-resized-png-1024x1024'\n",
    "LABELS_DIR = '/tmp/vinbigdata-yolo-labels'\n",
    "YOLO_DIR = '/tmp/vinbigdata-yolov5'\n",
    "\n",
    "HYPERPARAMS_FILE = '/content/result/vinbigdata.yaml'"
   ]
  },
  {
   "cell_type": "code",
   "execution_count": null,
   "metadata": {
    "id": "qRlgCPTS31nA"
   },
   "outputs": [],
   "source": [
    "iou_thr = 0.5\n",
    "skip_box_thr = 0.001\n",
    "sigma = 0.1\n",
    "\n",
    "hyperparameters = dict(\n",
    "        lr0 = 0.005,  # initial learning rate (SGD=1E-2, Adam=1E-3) \n",
    "        lrf = 0.032,  # final OneCycleLR learning rate (lr0 * lrf) \n",
    "        momentum = 0.937,  # SGD momentum/Adam beta1 \n",
    "        weight_decay = 0.0005,  # optimizer weight decay 5e-4 \n",
    "        warmup_epochs = 3.0,  # warmup epochs (fractions ok) \n",
    "        warmup_momentum = 0.8,  # warmup initial momentum \n",
    "        warmup_bias_lr = 0.1,  # warmup initial bias lr \n",
    "        box = 0.1,  # box loss gain \n",
    "        cls = 1.0,  # cls loss gain \n",
    "        cls_pw = 0.5,  # cls BCELoss positive_weight \n",
    "        obj = 2.0,  # obj loss gain (scale with pixels) \n",
    "        obj_pw = 0.5,  # obj BCELoss positive_weight \n",
    "        iou_t = 0.20,  # IoU training threshold \n",
    "        anchor_t = 4.0,  # anchor-multiple threshold \n",
    "        anchors = 0,  # anchors per output layer (0 to ignore) \n",
    "        fl_gamma = 0.0,  # focal loss gamma (efficientDet default gamma=1.5) \n",
    "        hsv_h = 0.015,  # image HSV-Hue augmentation (fraction) \n",
    "        hsv_s = 0.7,  # image HSV-Saturation augmentation (fraction) \n",
    "        hsv_v = 0.4,  # image HSV-Value augmentation (fraction) \n",
    "        degrees = 0.1,  # image rotation (+/- deg) \n",
    "        translate = 0.2,  # image translation (+/- fraction) \n",
    "        scale = 0.6,  # image scale (+/- gain) \n",
    "        shear = 0.1,  # image shear (+/- deg) \n",
    "        perspective = 0.0,  # image perspective (+/- fraction), range 0-0.001 \n",
    "        flipud = 0.0,  # image flip up-down (probability) \n",
    "        fliplr = 0.5,  # image flip left-right (probability) \n",
    "        mosaic = 0.0,  # image mosaic (probability) \n",
    "        mixup = 0.0  # image mixup (probability) \n",
    "        )"
   ]
  },
  {
   "cell_type": "code",
   "execution_count": null,
   "metadata": {
    "execution": {
     "iopub.execute_input": "2021-01-01T09:50:01.595454Z",
     "iopub.status.busy": "2021-01-01T09:50:01.594289Z",
     "iopub.status.idle": "2021-01-01T09:50:01.60074Z",
     "shell.execute_reply": "2021-01-01T09:50:01.601395Z"
    },
    "id": "neLgcGvCfqCY",
    "papermill": {
     "duration": null,
     "end_time": null,
     "exception": null,
     "start_time": null,
     "status": "pending"
    },
    "tags": []
   },
   "outputs": [],
   "source": [
    "classes = [\"Aortic_enlargement\", \"Atelectasis\", \"Calcification\", \"Cardiomegaly\", \"Consolidation\", \"ILD\", \"Infiltration\", \"Lung_Opacity\", \"Nodule/Mass\", \"Other_lesion\", \"Pleural_effusion\", \"Pleural_thickening\", \"Pneumothorax\", \"Pulmonary_fibrosis\"]"
   ]
  },
  {
   "cell_type": "markdown",
   "metadata": {
    "id": "02mvMph7wuzz"
   },
   "source": [
    "# Install dependencies and download data"
   ]
  },
  {
   "cell_type": "code",
   "execution_count": null,
   "metadata": {
    "id": "aiJkSunzNV2c"
   },
   "outputs": [],
   "source": [
    "!pip install -U PyYAML\n",
    "!pip install thop\n",
    "!pip install ensemble_boxes"
   ]
  },
  {
   "cell_type": "code",
   "execution_count": null,
   "metadata": {
    "id": "H5v829mA_rRG"
   },
   "outputs": [],
   "source": [
    "print(\"MAKE SURE AWSCLI IS INSTALLED AND AWS CONFIGURED\")\n",
    "!mkdir $DATA_DIR\n",
    "!mkdir $LABELS_DIR\n",
    "!mkdir $YOLO_DIR\n",
    "\n",
    "!aws s3 cp s3://$S3_BUCKET_NAME/vinbigdata-chest-xray-resized-png-1024x1024/ $DATA_DIR --recursive\n",
    "!aws s3 cp s3://$S3_BUCKET_NAME/vinbigdata-yolo-labels/ $LABELS_DIR --recursive\n",
    "!aws s3 cp s3://$S3_BUCKET_NAME/vinbigdata-yolov5/ $YOLO_DIR --recursive"
   ]
  },
  {
   "cell_type": "markdown",
   "metadata": {
    "id": "_kQWyXN8wyXR"
   },
   "source": [
    "# Format data"
   ]
  },
  {
   "cell_type": "code",
   "execution_count": null,
   "metadata": {
    "id": "u__8AYHM_y-M"
   },
   "outputs": [],
   "source": [
    "# ===============================\n",
    "# Default WBF config (you can change these)\n",
    "# iou_thr = 0.6\n",
    "# skip_box_thr = 0.0001\n",
    "# sigma = 0.1\n",
    "# ===============================\n",
    "\n",
    "# Loading the train DF\n",
    "df = pd.read_csv(f\"{DATA_DIR}/train.csv\")\n",
    "df.fillna(0, inplace=True)\n",
    "df.loc[df[\"class_id\"] == 14, ['x_max', 'y_max']] = 1.0\n",
    "\n",
    "results = []\n",
    "image_ids = df[\"image_id\"].unique()\n",
    "\n",
    "for image_id in tqdm(image_ids, total=len(image_ids)):\n",
    "\n",
    "    # All annotations for the current image.\n",
    "    data = df[df[\"image_id\"] == image_id]    \n",
    "    data = data.reset_index(drop=True)\n",
    "\n",
    "    annotations = {}\n",
    "    weights = []\n",
    "\n",
    "    # WBF expects the coordinates in 0-1 range.\n",
    "    max_value = data.iloc[:, 4:].values.max()\n",
    "    data.loc[:, [\"x_min\", \"y_min\", \"x_max\", \"y_max\"]] = data.iloc[:, 4:] / max_value\n",
    "\n",
    "    # Loop through all of the annotations\n",
    "    for idx, row in data.iterrows():\n",
    "\n",
    "        rad_id = row[\"rad_id\"]\n",
    "\n",
    "        if rad_id not in annotations:\n",
    "            annotations[rad_id] = {\n",
    "                \"boxes_list\": [],\n",
    "                \"scores_list\": [],\n",
    "                \"labels_list\": [],\n",
    "            }\n",
    "\n",
    "            # We consider all of the radiologists as equal.\n",
    "            weights.append(1.0)\n",
    "\n",
    "        annotations[rad_id][\"boxes_list\"].append([row[\"x_min\"], row[\"y_min\"], row[\"x_max\"], row[\"y_max\"]])\n",
    "        annotations[rad_id][\"scores_list\"].append(1.0)\n",
    "        annotations[rad_id][\"labels_list\"].append(row[\"class_id\"])\n",
    "\n",
    "    boxes_list = []\n",
    "    scores_list = []\n",
    "    labels_list = []\n",
    "\n",
    "    for annotator in annotations.keys():\n",
    "        boxes_list.append(annotations[annotator][\"boxes_list\"])\n",
    "        scores_list.append(annotations[annotator][\"scores_list\"])\n",
    "        labels_list.append(annotations[annotator][\"labels_list\"])\n",
    "\n",
    "    # Calculate WBF\n",
    "    boxes, scores, labels = weighted_boxes_fusion(\n",
    "        boxes_list,\n",
    "        scores_list,\n",
    "        labels_list,\n",
    "        weights=weights,\n",
    "        iou_thr=iou_thr,\n",
    "        skip_box_thr=skip_box_thr\n",
    "    )\n",
    "\n",
    "    for idx, box in enumerate(boxes):\n",
    "        class_id = int(labels[idx])\n",
    "        results.append({\n",
    "            \"image_id\": image_id,\n",
    "            \"class_id\": class_id,\n",
    "            \"rad_id\": \"wbf\",\n",
    "            \"x_min\": box[0] * max_value,\n",
    "            \"y_min\": box[1] * max_value,\n",
    "            \"x_max\": box[2] * max_value,\n",
    "            \"y_max\": box[3] * max_value,\n",
    "            \"class_name\": \"No finding\" if class_id >= 14 else classes[class_id],\n",
    "            \"width\": data.iloc[0]['width'],\n",
    "            \"height\": data.iloc[0]['height'],\n",
    "        })\n",
    "\n",
    "results = pd.DataFrame(results)"
   ]
  },
  {
   "cell_type": "code",
   "execution_count": null,
   "metadata": {
    "id": "7mHOEX0r_1ve"
   },
   "outputs": [],
   "source": [
    "train_df = results\n",
    "train_df = train_df[train_df.class_id!=14].reset_index(drop = True) # Drop no-findings\n",
    "train_df['image_path'] = f'/tmp/vinbigdata-chest-xray-resized-png-1024x1024/train/'+train_df.image_id+('.png')\n",
    "\n",
    "print(train_df.shape)\n",
    "train_df.head()"
   ]
  },
  {
   "cell_type": "code",
   "execution_count": null,
   "metadata": {
    "execution": {
     "iopub.execute_input": "2021-01-01T09:44:55.070332Z",
     "iopub.status.busy": "2021-01-01T09:44:55.068017Z",
     "iopub.status.idle": "2021-01-01T09:45:02.853634Z",
     "shell.execute_reply": "2021-01-01T09:45:02.854022Z"
    },
    "id": "umRn826AfqCW",
    "papermill": {
     "duration": null,
     "end_time": null,
     "exception": null,
     "start_time": null,
     "status": "pending"
    },
    "tags": []
   },
   "outputs": [],
   "source": [
    "train_df['x_min'] = train_df.apply(lambda row: (row.x_min)/row.width, axis =1)\n",
    "train_df['y_min'] = train_df.apply(lambda row: (row.y_min)/row.height, axis =1)\n",
    "\n",
    "train_df['x_max'] = train_df.apply(lambda row: (row.x_max)/row.width, axis =1)\n",
    "train_df['y_max'] = train_df.apply(lambda row: (row.y_max)/row.height, axis =1)\n",
    "\n",
    "train_df['x_mid'] = train_df.apply(lambda row: (row.x_max+row.x_min)/2, axis =1)\n",
    "train_df['y_mid'] = train_df.apply(lambda row: (row.y_max+row.y_min)/2, axis =1)\n",
    "\n",
    "train_df['w'] = train_df.apply(lambda row: (row.x_max-row.x_min), axis =1)\n",
    "train_df['h'] = train_df.apply(lambda row: (row.y_max-row.y_min), axis =1)\n",
    "\n",
    "train_df['area'] = train_df['w']*train_df['h']\n",
    "train_df.head()"
   ]
  },
  {
   "cell_type": "code",
   "execution_count": null,
   "metadata": {
    "execution": {
     "iopub.execute_input": "2021-01-01T09:45:02.917339Z",
     "iopub.status.busy": "2021-01-01T09:45:02.916466Z",
     "iopub.status.idle": "2021-01-01T09:45:02.923299Z",
     "shell.execute_reply": "2021-01-01T09:45:02.922859Z"
    },
    "id": "ge7ilhYMfqCW",
    "papermill": {
     "duration": null,
     "end_time": null,
     "exception": null,
     "start_time": null,
     "status": "pending"
    },
    "tags": []
   },
   "outputs": [],
   "source": [
    "features = ['x_min', 'y_min', 'x_max', 'y_max', 'x_mid', 'y_mid', 'w', 'h', 'area']\n",
    "X = train_df[features]\n",
    "y = train_df['class_id']\n",
    "X.shape, y.shape"
   ]
  },
  {
   "cell_type": "code",
   "execution_count": null,
   "metadata": {
    "execution": {
     "iopub.execute_input": "2021-01-01T09:47:56.420454Z",
     "iopub.status.busy": "2021-01-01T09:47:56.419355Z",
     "iopub.status.idle": "2021-01-01T09:47:56.443157Z",
     "shell.execute_reply": "2021-01-01T09:47:56.443661Z"
    },
    "id": "2O6A94lCfqCX",
    "papermill": {
     "duration": null,
     "end_time": null,
     "exception": null,
     "start_time": null,
     "status": "pending"
    },
    "tags": []
   },
   "outputs": [],
   "source": [
    "train_files = []\n",
    "val_files   = []\n",
    "# val_files += list(train_df.image_path.unique()[:1])\n",
    "train_files += list(train_df.image_path.unique())\n",
    "len(train_files), len(val_files)"
   ]
  },
  {
   "cell_type": "markdown",
   "metadata": {
    "id": "ALS52R_wfqCX",
    "papermill": {
     "duration": null,
     "end_time": null,
     "exception": null,
     "start_time": null,
     "status": "pending"
    },
    "tags": []
   },
   "source": [
    "# Copy files for training"
   ]
  },
  {
   "cell_type": "code",
   "execution_count": null,
   "metadata": {
    "execution": {
     "iopub.execute_input": "2021-01-01T09:47:56.779532Z",
     "iopub.status.busy": "2021-01-01T09:47:56.778609Z",
     "iopub.status.idle": "2021-01-01T09:50:01.33093Z",
     "shell.execute_reply": "2021-01-01T09:50:01.330431Z"
    },
    "id": "z7lebKVqfqCX",
    "papermill": {
     "duration": null,
     "end_time": null,
     "exception": null,
     "start_time": null,
     "status": "pending"
    },
    "tags": []
   },
   "outputs": [],
   "source": [
    "os.makedirs(f'{WORKING_DIR}/vinbigdata/labels/train', exist_ok = True)\n",
    "os.makedirs(f'{WORKING_DIR}/vinbigdata/labels/val', exist_ok = True)\n",
    "os.makedirs(f'{WORKING_DIR}/vinbigdata/images/train', exist_ok = True)\n",
    "os.makedirs(f'{WORKING_DIR}/vinbigdata/images/val', exist_ok = True)\n",
    "\n",
    "# copy files from input (/tmp) directory to working directory\n",
    "for file in tqdm(train_files):\n",
    "    shutil.copy(file, f'{WORKING_DIR}/vinbigdata/images/train')\n",
    "    filename = file.split('/')[-1].split('.')[0]\n",
    "    shutil.copy(os.path.join(LABEL_DIR, filename+'.txt'), f'{WORKING_DIR}/vinbigdata/labels/train')\n",
    "    \n",
    "for file in tqdm(val_files):\n",
    "    shutil.copy(file, follow_symlinks=f'{WORKING_DIR}/vinbigdata/images/val')\n",
    "    filename = file.split('/')[-1].split('.')[0]\n",
    "    shutil.copy(os.path.join(LABEL_DIR, filename+'.txt'), f'{WORKING_DIR}/vinbigdata/labels/val')"
   ]
  },
  {
   "cell_type": "code",
   "execution_count": null,
   "metadata": {
    "execution": {
     "iopub.execute_input": "2021-01-01T09:50:01.950234Z",
     "iopub.status.busy": "2021-01-01T09:50:01.949285Z",
     "iopub.status.idle": "2021-01-01T09:50:01.995866Z",
     "shell.execute_reply": "2021-01-01T09:50:01.996316Z"
    },
    "id": "VYjytAxufqCY",
    "papermill": {
     "duration": null,
     "end_time": null,
     "exception": null,
     "start_time": null,
     "status": "pending"
    },
    "tags": []
   },
   "outputs": [],
   "source": [
    "with open(join(WORKING_DIR, 'train.txt'), 'w') as f:\n",
    "    for path in glob(f'{WORKING_DIR}/vinbigdata/images/train/*'):\n",
    "        f.write(path+'\\n')\n",
    "            \n",
    "with open(join( cwd , 'val.txt'), 'w') as f:\n",
    "    for path in glob(f'{WORKING_DIR}/vinbigdata/images/val/*'):\n",
    "        f.write(path+'\\n')\n",
    "\n",
    "data = dict(\n",
    "    train = join(WORKING_DIR, 'train.txt'),\n",
    "    val = join(WORKING_DIR, 'val.txt' ),\n",
    "    nc = 14,\n",
    "    names = classes\n",
    "    )\n",
    "\n",
    "with open(join(WORKING_DIR, 'vinbigdata.yaml'), 'w') as outfile:\n",
    "    yaml.dump(data, outfile, default_flow_style=False)\n",
    "\n",
    "f = open(join(WORKING_DIR, 'vinbigdata.yaml'), 'r')\n",
    "print(f.read())"
   ]
  },
  {
   "cell_type": "code",
   "execution_count": null,
   "metadata": {
    "_cell_guid": "79c7e3d0-c299-4dcb-8224-4455121ee9b0",
    "_uuid": "d629ff2d2480ee46fbb7e2d37f6b5fab8052498a",
    "execution": {
     "iopub.execute_input": "2021-01-01T09:50:02.170487Z",
     "iopub.status.busy": "2021-01-01T09:50:02.169672Z",
     "iopub.status.idle": "2021-01-01T09:50:08.782533Z",
     "shell.execute_reply": "2021-01-01T09:50:08.783883Z"
    },
    "id": "cVAUszR6fqCZ",
    "papermill": {
     "duration": null,
     "end_time": null,
     "exception": null,
     "start_time": null,
     "status": "pending"
    },
    "tags": []
   },
   "outputs": [],
   "source": [
    "shutil.copytree(YOLO_DIR, f'${WORKING_DIR}/yolov5')\n",
    "os.chdir(f'{WORKING_DIR}/yolov5')\n",
    "\n",
    "with open(f'{WORKING_DIR}/yolov5/data/hyp.scratch.yaml', 'w') as outfile2:\n",
    "    yaml.dump(hyperparameters, outfile2, default_flow_style=False)"
   ]
  },
  {
   "cell_type": "markdown",
   "metadata": {
    "id": "yGcFK0MzfqCa",
    "papermill": {
     "duration": null,
     "end_time": null,
     "exception": null,
     "start_time": null,
     "status": "pending"
    },
    "tags": []
   },
   "source": [
    "# Train"
   ]
  },
  {
   "cell_type": "code",
   "execution_count": null,
   "metadata": {
    "execution": {
     "iopub.execute_input": "2021-01-01T09:50:19.916161Z",
     "iopub.status.busy": "2021-01-01T09:50:19.915216Z",
     "iopub.status.idle": "2021-01-01T15:22:16.288743Z",
     "shell.execute_reply": "2021-01-01T15:22:16.289579Z"
    },
    "id": "6edYvqocfqCa",
    "papermill": {
     "duration": null,
     "end_time": null,
     "exception": null,
     "start_time": null,
     "status": "pending"
    },
    "tags": []
   },
   "outputs": [],
   "source": [
    "!WANDB_MODE=\"dryrun\" python train.py --img 1024 --batch 2 --epochs 30 --multi-scale --data $HYPERPARAMS_FILE --weights yolov5x.pt --cache --notest"
   ]
  },
  {
   "cell_type": "code",
   "execution_count": null,
   "metadata": {
    "id": "hsVqpQjTo7sS"
   },
   "outputs": [],
   "source": [
    "timestamp = datetime.datetime.now().strftime(\"%m_%d_%Y_%H.%M\")\n",
    "print(timestamp)\n",
    "!aws s3 cp /content/result/yolov5/runs/train/exp/weights s3://$S3_BUCKET_NAME/vinbigdata-trained-yolov5lmodel-final-{timestamp} --recursive"
   ]
  }
 ],
 "metadata": {
  "accelerator": "GPU",
  "colab": {
   "collapsed_sections": [],
   "machine_shape": "hm",
   "name": "vinbigdata-yolo-train-final.ipynb",
   "provenance": [],
   "toc_visible": true
  },
  "kernelspec": {
   "display_name": "Python 3",
   "language": "python",
   "name": "python3"
  },
  "language_info": {
   "codemirror_mode": {
    "name": "ipython",
    "version": 3
   },
   "file_extension": ".py",
   "mimetype": "text/x-python",
   "name": "python",
   "nbconvert_exporter": "python",
   "pygments_lexer": "ipython3",
   "version": "3.7.6"
  },
  "papermill": {
   "duration": null,
   "end_time": null,
   "environment_variables": {},
   "exception": null,
   "input_path": "__notebook__.ipynb",
   "output_path": "__notebook__.ipynb",
   "parameters": {},
   "start_time": "2021-03-05T22:24:32.172634",
   "version": "2.1.0"
  }
 },
 "nbformat": 4,
 "nbformat_minor": 1
}
